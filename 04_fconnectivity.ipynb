{
 "cells": [
  {
   "cell_type": "code",
   "execution_count": null,
   "metadata": {},
   "outputs": [],
   "source": [
    "import warnings\n",
    "warnings.filterwarnings('ignore')"
   ]
  },
  {
   "cell_type": "code",
   "execution_count": null,
   "metadata": {},
   "outputs": [],
   "source": [
    "import numpy as np\n",
    "import pandas as pd\n",
    "import nibabel as nib\n",
    "import nilearn\n",
    "from nilearn import plotting\n",
    "from nilearn.masking import apply_mask \n",
    "from nilearn.connectome import ConnectivityMeasure\n",
    "from nilearn.input_data import NiftiMapsMasker\n",
    "from glob import glob\n",
    "from os.path import join\n",
    "import matplotlib.pylab as plt"
   ]
  },
  {
   "cell_type": "code",
   "execution_count": null,
   "metadata": {},
   "outputs": [],
   "source": [
    "data_dir = \"C:\\\\Users\\\\sr1209\\\\Downloads\\\\nilearn_data\"\n",
    "\n",
    "# Here, I accidentally used two identical IDs (0021019), but oh well...\n",
    "ids = ['0010042', '0010128', '0027034', '0021019', '0027037', '0021019']\n",
    "group = [1,0,1,0,1,0]\n",
    "n_subjects = len(ids)"
   ]
  },
  {
   "cell_type": "code",
   "execution_count": null,
   "metadata": {
    "scrolled": true
   },
   "outputs": [],
   "source": [
    "# Load file names\n",
    "phenotypic = data_dir + '\\adhd\\ADHD200_40subs_motion_parameters_and_phenotypics.csv'\n",
    "func_fns = [str(data_dir + '\\\\adhd\\\\data\\\\%s\\\\%s_rest_tshift_RPI_voreg_mni.nii.gz') % (i, i) for i in ids]\n",
    "confounds_fns = [data_dir + '\\\\adhd\\\\data\\\\%s\\\\%s_regressors.csv' % (i, i) for i in ids]"
   ]
  },
  {
   "cell_type": "code",
   "execution_count": null,
   "metadata": {},
   "outputs": [],
   "source": [
    "atlas_fn = 'C:\\\\Users\\\\sr1209\\\\Downloads\\\\nilearn_data\\\\MSDL_rois\\\\msdl_rois.nii'\n",
    "label_fn = 'C:\\\\Users\\\\sr1209\\\\Downloads\\\\nilearn_data\\\\MSDL_rois\\\\msdl_rois_labels.csv'"
   ]
  },
  {
   "cell_type": "code",
   "execution_count": null,
   "metadata": {},
   "outputs": [],
   "source": [
    "# Load atlas\n",
    "masker = NiftiMapsMasker(maps_img=atlas_fn, \n",
    "                         standardize=True, \n",
    "                         detrend=True,\n",
    "                         t_r=2.5,\n",
    "                         low_pass=.1, \n",
    "                         high_pass=.01)"
   ]
  },
  {
   "cell_type": "code",
   "execution_count": null,
   "metadata": {},
   "outputs": [],
   "source": [
    "# Get labels and coordinates\n",
    "import csv\n",
    "from collections import defaultdict\n",
    "\n",
    "columns = defaultdict(list) # each value in each column is appended to a list\n",
    "coords = []\n",
    "\n",
    "index = 0\n",
    "with open(label_fn) as f:\n",
    "    reader = csv.DictReader(f) # read rows into a dictionary format\n",
    "    for row in reader: # read a row as {column1: value1, column2: value2,...}\n",
    "        for (k,v) in row.items(): # go over each column name and value \n",
    "            columns[k].append(v) # append the value into the appropriate list\n",
    "                                 # based on column name k\n",
    "        \n",
    "        # Also store coordinates into list\n",
    "        coords.append([float(columns['x'][index]),float(columns['y'][index]),float(columns['z'][index])])\n",
    "        index = index + 1\n",
    "                  \n",
    "labels = columns['name']"
   ]
  },
  {
   "cell_type": "code",
   "execution_count": null,
   "metadata": {},
   "outputs": [],
   "source": [
    "# Compute functional connectivity for each subject across all ROIs\n",
    "pooled_subjects = []\n",
    "adhd_subjects = []\n",
    "control_subjects = []\n",
    "\n",
    "index = 0\n",
    "for img in func_fns:\n",
    "    # Load data into numpy array (not necessary)\n",
    "    # func_imgs[index] = nib.load(file).get_data()\n",
    "    \n",
    "    # Extract timeseries for each ROI\n",
    "    time_series = masker.fit_transform(func_fns[index], confounds=confounds_fns[index])\n",
    "    pooled_subjects.append(time_series)\n",
    "    if group[index] == 1: # if subject is in adhd group\n",
    "       adhd_subjects.append(time_series)\n",
    "    elif group[index] == 0: # if subject is in control group\n",
    "       control_subjects.append(time_series)\n",
    "\n",
    "    # Update index\n",
    "    index = index + 1"
   ]
  },
  {
   "cell_type": "code",
   "execution_count": null,
   "metadata": {},
   "outputs": [],
   "source": [
    "# Specify correlation measures\n",
    "pooled_corr_measure = ConnectivityMeasure(kind='correlation') \n",
    "adhd_corr_measure = ConnectivityMeasure(kind='correlation')\n",
    "control_corr_measure = ConnectivityMeasure(kind='correlation')\n",
    "# For partial correlation: ConnectivityMeasure(kind='partial correlation')\n",
    "\n",
    "pooled_corr_matrices = pooled_corr_measure.fit_transform(pooled_subjects)\n",
    "adhd_corr_matrices = adhd_corr_measure.fit_transform(adhd_subjects)\n",
    "control_corr_matrices = control_corr_measure.fit_transform(control_subjects)"
   ]
  },
  {
   "cell_type": "code",
   "execution_count": null,
   "metadata": {},
   "outputs": [],
   "source": [
    "def plot_matrices(matrices, matrix_kind, labels):\n",
    "    n_matrices = len(matrices)\n",
    "    fig = plt.figure(figsize=(n_matrices * 6, 6))\n",
    "    for n_subject, matrix in enumerate(matrices):\n",
    "        plt.subplot(1, n_matrices, n_subject + 1)\n",
    "        matrix = matrix.copy()  # avoid side effects\n",
    "        # Set diagonal to zero, for better visualization\n",
    "        np.fill_diagonal(matrix, 0)\n",
    "        vmax = np.max(np.abs(matrix))\n",
    "        plotting.plot_matrix(matrix, vmin=-vmax, vmax=vmax, labels=labels, \n",
    "                             cmap='RdBu_r',figure=fig, colorbar=False)"
   ]
  },
  {
   "cell_type": "code",
   "execution_count": null,
   "metadata": {
    "slideshow": {
     "slide_type": "slide"
    }
   },
   "outputs": [],
   "source": [
    "%matplotlib inline \n",
    "plot_matrices(adhd_corr_matrices, 'correlation', labels) # adhd subjects\n",
    "mean_adhd_corr_matrix = adhd_corr_measure.mean_\n",
    "plotting.plot_connectome(mean_adhd_corr_matrix,\n",
    "                         coords,\n",
    "                         edge_threshold=\"80%\",\n",
    "                         colorbar=True,\n",
    "                         title='mean correlation over %s ADHD subjects' % len(adhd_corr_matrices))\n",
    "plotting.show()"
   ]
  },
  {
   "cell_type": "code",
   "execution_count": null,
   "metadata": {
    "slideshow": {
     "slide_type": "slide"
    }
   },
   "outputs": [],
   "source": [
    "plot_matrices(control_corr_matrices, 'correlation', labels) # controls\n",
    "mean_control_corr_matrix = control_corr_measure.mean_\n",
    "plotting.plot_connectome(mean_control_corr_matrix,\n",
    "                         coords,\n",
    "                         edge_threshold=\"80%\",\n",
    "                         colorbar=True,\n",
    "                         title='mean correlation over %s control subjects' % len(control_corr_matrices))\n",
    "plotting.show()"
   ]
  },
  {
   "cell_type": "code",
   "execution_count": null,
   "metadata": {
    "slideshow": {
     "slide_type": "slide"
    }
   },
   "outputs": [],
   "source": [
    "mean_pooled_corr_matrix = pooled_corr_measure.mean_\n",
    "plotting.plot_connectome(mean_pooled_corr_matrix,\n",
    "                         coords,\n",
    "                         edge_threshold=\"80%\",\n",
    "                         colorbar=True,\n",
    "                         title='mean correlation over %s subjects' % len(pooled_corr_matrices))\n",
    "plotting.show()"
   ]
  },
  {
   "cell_type": "markdown",
   "metadata": {},
   "source": [
    "We can also view an interactive graph plot:"
   ]
  },
  {
   "cell_type": "code",
   "execution_count": null,
   "metadata": {},
   "outputs": [],
   "source": [
    "# view = plotting.view_connectome(mean_pooled_corr_matrix, coords, threshold='80%')\n",
    "# view.open_in_browser()"
   ]
  },
  {
   "cell_type": "markdown",
   "metadata": {},
   "source": [
    "### Now, let's test a specific hypotheses:\n",
    "- Decreased ACC (22) <--> PCC (33) functional connectivity in ADHD group than controls (Castellanos et al, 2008)"
   ]
  },
  {
   "cell_type": "code",
   "execution_count": null,
   "metadata": {},
   "outputs": [],
   "source": [
    "# for c, value in enumerate(labels):\n",
    "#     print(c, value)"
   ]
  },
  {
   "cell_type": "code",
   "execution_count": null,
   "metadata": {},
   "outputs": [],
   "source": [
    "ACC_PCC = pd.DataFrame({\"controls\" : control_corr_matrices[0:3,22,33],\n",
    "                        \"adhd\" : adhd_corr_matrices[0:3,22,33]})"
   ]
  },
  {
   "cell_type": "code",
   "execution_count": null,
   "metadata": {},
   "outputs": [],
   "source": [
    "from scipy.stats import ttest_ind as ttest\n",
    "\n",
    "(T_stat, p_val) = ttest(control_corr_matrices[0:3,22,33], adhd_corr_matrices[0:3,22,33])\n",
    "print(\"T = %f, p = %f\" % (T_stat, p_val))"
   ]
  },
  {
   "cell_type": "markdown",
   "metadata": {},
   "source": [
    "#### Now, let's get fancy with some seaborn"
   ]
  },
  {
   "cell_type": "code",
   "execution_count": null,
   "metadata": {},
   "outputs": [],
   "source": [
    "import seaborn as sns"
   ]
  },
  {
   "cell_type": "code",
   "execution_count": null,
   "metadata": {
    "slideshow": {
     "slide_type": "slide"
    }
   },
   "outputs": [],
   "source": [
    "# Plot dACC <--> dPCC group analysis results\n",
    "sns.set(style=\"whitegrid\")\n",
    "ax = sns.barplot(data=ACC_PCC )"
   ]
  },
  {
   "cell_type": "code",
   "execution_count": null,
   "metadata": {
    "slideshow": {
     "slide_type": "slide"
    }
   },
   "outputs": [],
   "source": [
    "# Let's plot the correlation matrices using seaborn\n",
    "# Throw matrices into dataframe\n",
    "adhd_df = pd.DataFrame(mean_adhd_corr_matrix, columns = labels, index = labels)\n",
    "control_df = pd.DataFrame(mean_control_corr_matrix, columns = labels, index = labels)\n",
    "\n",
    "sns.set(style=\"white\")\n",
    "\n",
    "# Generate a mask for the upper triangle\n",
    "mask = np.zeros_like(adhd_df, dtype=np.bool)\n",
    "mask[np.triu_indices_from(mask)] = True\n",
    "\n",
    "# Generate a custom diverging colormap\n",
    "cmap = sns.diverging_palette(220, 10, as_cmap=True)\n",
    "\n",
    "# Set up the matplotlib figure\n",
    "fig = plt.figure(figsize = (50,50)) # width x height\n",
    "ax1 = fig.add_subplot(3, 3, 1) # row, column, position\n",
    "ax2 = fig.add_subplot(3, 3, 2)\n",
    "\n",
    "sns.heatmap(data=adhd_df, ax=ax1, mask=mask, cmap=cmap, square=True, vmax=.3, cbar_kws={\"shrink\": .5})\n",
    "sns.heatmap(data=control_df, ax=ax2, mask=mask, cmap=\"YlGnBu\", square=True, vmax=.3, cbar_kws={\"shrink\": .5})"
   ]
  }
 ],
 "metadata": {
  "kernelspec": {
   "display_name": "Python 3",
   "language": "python",
   "name": "python3"
  },
  "language_info": {
   "codemirror_mode": {
    "name": "ipython",
    "version": 3
   },
   "file_extension": ".py",
   "mimetype": "text/x-python",
   "name": "python",
   "nbconvert_exporter": "python",
   "pygments_lexer": "ipython3",
   "version": "3.6.6"
  }
 },
 "nbformat": 4,
 "nbformat_minor": 2
}
